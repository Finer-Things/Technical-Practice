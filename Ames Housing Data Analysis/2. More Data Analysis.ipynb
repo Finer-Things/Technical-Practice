{
 "cells": [
  {
   "cell_type": "markdown",
   "metadata": {},
   "source": [
    "Importing Stuff"
   ]
  },
  {
   "cell_type": "code",
   "execution_count": 1,
   "metadata": {},
   "outputs": [],
   "source": [
    "import math\n",
    "import pandas as pd\n",
    "import numpy as np\n",
    "import seaborn as sns\n",
    "import matplotlib as mpl\n",
    "import matplotlib.pyplot as plt"
   ]
  },
  {
   "cell_type": "markdown",
   "metadata": {},
   "source": [
    "Let's see what data types we're working with. "
   ]
  },
  {
   "cell_type": "code",
   "execution_count": 2,
   "metadata": {},
   "outputs": [],
   "source": [
    "df = pd.read_csv(\"data/CleanedAmesHousing.csv\")"
   ]
  },
  {
   "cell_type": "code",
   "execution_count": 10,
   "metadata": {},
   "outputs": [
    {
     "name": "stdout",
     "output_type": "stream",
     "text": [
      "Unnamed: 0         int64\n",
      "PID                int64\n",
      "MS SubClass        int64\n",
      "MS Zoning         object\n",
      "Lot Area           int64\n",
      "                   ...  \n",
      "Mo Sold            int64\n",
      "Yr Sold            int64\n",
      "Sale Type         object\n",
      "Sale Condition    object\n",
      "SalePrice          int64\n",
      "Length: 64, dtype: object\n"
     ]
    }
   ],
   "source": [
    "print(df.dtypes)"
   ]
  },
  {
   "cell_type": "markdown",
   "metadata": {},
   "source": [
    "There seem to be a few objects in there. Let's take a closer look. "
   ]
  },
  {
   "cell_type": "code",
   "execution_count": 7,
   "metadata": {},
   "outputs": [
    {
     "data": {
      "text/plain": [
       "array(['RL', 'RH', 'FV', 'RM', 'C (all)', 'I (all)', 'A (agr)'],\n",
       "      dtype=object)"
      ]
     },
     "execution_count": 7,
     "metadata": {},
     "output_type": "execute_result"
    }
   ],
   "source": [
    "df[\"MS Zoning\"].unique()"
   ]
  },
  {
   "cell_type": "markdown",
   "metadata": {},
   "source": [
    "Here are all of the columns with object data type. "
   ]
  },
  {
   "cell_type": "code",
   "execution_count": 17,
   "metadata": {},
   "outputs": [
    {
     "name": "stdout",
     "output_type": "stream",
     "text": [
      "MS Zoning ['RL' 'RH' 'FV' 'RM' 'C (all)' 'I (all)' 'A (agr)'] \n",
      "\n",
      "Street ['Pave' 'Grvl'] \n",
      "\n",
      "Lot Shape ['IR1' 'Reg' 'IR2' 'IR3'] \n",
      "\n",
      "Land Contour ['Lvl' 'HLS' 'Bnk' 'Low'] \n",
      "\n",
      "Utilities ['AllPub' 'NoSewr' 'NoSeWa'] \n",
      "\n",
      "Lot Config ['Corner' 'Inside' 'CulDSac' 'FR2' 'FR3'] \n",
      "\n",
      "Land Slope ['Gtl' 'Mod' 'Sev'] \n",
      "\n",
      "Neighborhood ['NAmes' 'Gilbert' 'StoneBr' 'NWAmes' 'Somerst' 'BrDale' 'NPkVill'\n",
      " 'NridgHt' 'Blmngtn' 'NoRidge' 'SawyerW' 'Sawyer' 'Greens' 'BrkSide'\n",
      " 'OldTown' 'IDOTRR' 'ClearCr' 'SWISU' 'Edwards' 'CollgCr' 'Crawfor'\n",
      " 'Blueste' 'Mitchel' 'Timber' 'MeadowV' 'Veenker' 'GrnHill' 'Landmrk'] \n",
      "\n",
      "Condition 1 ['Norm' 'Feedr' 'PosN' 'RRNe' 'RRAe' 'Artery' 'PosA' 'RRAn' 'RRNn'] \n",
      "\n",
      "Condition 2 ['Norm' 'Feedr' 'PosA' 'PosN' 'Artery' 'RRNn' 'RRAe' 'RRAn'] \n",
      "\n",
      "Bldg Type ['1Fam' 'TwnhsE' 'Twnhs' 'Duplex' '2fmCon'] \n",
      "\n",
      "House Style ['1Story' '2Story' '1.5Fin' 'SFoyer' 'SLvl' '2.5Unf' '1.5Unf' '2.5Fin'] \n",
      "\n",
      "Roof Style ['Hip' 'Gable' 'Mansard' 'Gambrel' 'Shed' 'Flat'] \n",
      "\n",
      "Roof Matl ['CompShg' 'WdShake' 'Tar&Grv' 'WdShngl' 'Membran' 'ClyTile' 'Roll'\n",
      " 'Metal'] \n",
      "\n",
      "Exterior 1st ['BrkFace' 'VinylSd' 'Wd Sdng' 'CemntBd' 'HdBoard' 'Plywood' 'MetalSd'\n",
      " 'AsbShng' 'WdShing' 'Stucco' 'AsphShn' 'BrkComm' 'CBlock' 'PreCast'\n",
      " 'Stone' 'ImStucc'] \n",
      "\n",
      "Exterior 2nd ['Plywood' 'VinylSd' 'Wd Sdng' 'BrkFace' 'CmentBd' 'HdBoard' 'Wd Shng'\n",
      " 'MetalSd' 'ImStucc' 'Brk Cmn' 'AsbShng' 'Stucco' 'AsphShn' 'CBlock'\n",
      " 'Stone' 'PreCast' 'Other'] \n",
      "\n",
      "Exter Qual ['TA' 'Gd' 'Ex' 'Fa'] \n",
      "\n",
      "Exter Cond ['TA' 'Gd' 'Fa' 'Po' 'Ex'] \n",
      "\n",
      "Foundation ['CBlock' 'PConc' 'Wood' 'BrkTil' 'Slab' 'Stone'] \n",
      "\n",
      "Heating ['GasA' 'GasW' 'Grav' 'Wall' 'Floor' 'OthW'] \n",
      "\n",
      "Heating QC ['Fa' 'TA' 'Ex' 'Gd' 'Po'] \n",
      "\n",
      "Central Air ['Y' 'N'] \n",
      "\n",
      "Electrical ['SBrkr' 'FuseA' 'FuseF' 'FuseP' 'Mix'] \n",
      "\n",
      "Kitchen Qual ['TA' 'Gd' 'Ex' 'Fa' 'Po'] \n",
      "\n",
      "Functional ['Typ' 'Mod' 'Min1' 'Min2' 'Maj1' 'Maj2' 'Sev' 'Sal'] \n",
      "\n",
      "Paved Drive ['P' 'Y' 'N'] \n",
      "\n",
      "Sale Type ['WD ' 'New' 'COD' 'ConLI' 'Con' 'ConLD' 'Oth' 'ConLw' 'CWD' 'VWD'] \n",
      "\n",
      "Sale Condition ['Normal' 'Partial' 'Family' 'Abnorml' 'Alloca' 'AdjLand'] \n",
      "\n"
     ]
    }
   ],
   "source": [
    "object_columns_list = [column for column in df.columns if df[column].dtype == object]\n",
    "for column in object_columns_list:\n",
    "    print(column, df[column].unique(), \"\\n\")"
   ]
  },
  {
   "cell_type": "code",
   "execution_count": 33,
   "metadata": {},
   "outputs": [
    {
     "name": "stdout",
     "output_type": "stream",
     "text": [
      "int64:                28\n",
      "O:                    28\n",
      "float64:               8\n"
     ]
    }
   ],
   "source": [
    "# Dictionary to keep track of all the data types by frequency\n",
    "types_dict = {}\n",
    "for column in df.columns:\n",
    "    # Data Type's String Representation\n",
    "    my_type = df[column].dtype.__repr__()\n",
    "    \n",
    "    if my_type in types_dict.keys():\n",
    "        types_dict[my_type] = types_dict[my_type] + 1\n",
    "    else:\n",
    "        types_dict[my_type] = 1\n",
    "\n",
    "for key, value in types_dict.items():\n",
    "    print(f\"{key.__repr__()[8:-3] + ':':20} {value: 3}\")"
   ]
  }
 ],
 "metadata": {
  "kernelspec": {
   "display_name": "Python 3",
   "language": "python",
   "name": "python3"
  },
  "language_info": {
   "codemirror_mode": {
    "name": "ipython",
    "version": 3
   },
   "file_extension": ".py",
   "mimetype": "text/x-python",
   "name": "python",
   "nbconvert_exporter": "python",
   "pygments_lexer": "ipython3",
   "version": "3.10.1"
  },
  "orig_nbformat": 4
 },
 "nbformat": 4,
 "nbformat_minor": 2
}
