{
 "cells": [
  {
   "cell_type": "code",
   "execution_count": 41,
   "id": "848b1fbb",
   "metadata": {},
   "outputs": [
    {
     "name": "stdout",
     "output_type": "stream",
     "text": [
      "1234567890 1234567980\n",
      "1234567980 1234568970\n",
      "12354\n"
     ]
    }
   ],
   "source": [
    "def last_larger_digit_index(num):\n",
    "    #last larger because it is the last digit that is larger than some digit before it. \n",
    "    digits = str(num)\n",
    "    length = len(digits)\n",
    "    for i in range(length):\n",
    "        smaller_before_list = [digits[j] for j in range(length-i) if digits[j] < digits[length-i-1]]\n",
    "        if len(smaller_before_list) > 0:\n",
    "            return length-i-1\n",
    "\n",
    "\n",
    "def next_bigger(n):\n",
    "    num_string = str(n)\n",
    "    length = len(num_string)\n",
    "    lld_index = last_larger_digit_index(n)\n",
    "    #last largest digit\n",
    "    lld = num_string[lld_index]\n",
    "    #This loop will find the last digit that is smaller than last_digit\n",
    "    for i in range (lld_index):\n",
    "        if int(num_string[i]) < int(num_string[lld_index]):\n",
    "            a = i\n",
    "    #print(lld_index)\n",
    "    #print(a)\n",
    "    lld = num_string[lld_index]\n",
    "    #print(lld)\n",
    "    lld_first_instance_index = num_string.index(num_string[lld_index], a, lld_index+1)\n",
    "    #print(lld_first_instance_index)\n",
    "    permuted_string_list = [num_string[i] for i in range (length) if i < a] + [num_string[lld_first_instance_index] for i in range (length) if i == a] + [num_string[i] for i in range (length) if a < i and i < lld_first_instance_index] + [num_string[a] for i in range (length) if i == lld_first_instance_index] + [num_string[i] for i in range (length) if i > lld_first_instance_index]\n",
    "    return int(\"\".join(permuted_string_list))\n",
    "print(1234567890, next_bigger(1234567890))\n",
    "print(1234567980, next_bigger(1234567980))\n",
    "print(next_bigger(12345))\n"
   ]
  },
  {
   "cell_type": "code",
   "execution_count": 7,
   "id": "3212a769",
   "metadata": {},
   "outputs": [
    {
     "name": "stdout",
     "output_type": "stream",
     "text": [
      "41.5\n"
     ]
    }
   ],
   "source": [
    "def median(array):\n",
    "    length = len(array)\n",
    "    array.sort()\n",
    "    if length % 2 == 1:\n",
    "        return array[(length-1)//2]\n",
    "    else: return float(array[(length//2)-1]+array[(length)//2])/2\n",
    "print(median([33,99,100,30,29,50]))"
   ]
  },
  {
   "cell_type": "code",
   "execution_count": 6,
   "id": "b3f3b639",
   "metadata": {},
   "outputs": [
    {
     "name": "stdout",
     "output_type": "stream",
     "text": [
      "2\n"
     ]
    }
   ],
   "source": [
    "def digits(n):\n",
    "    def check_leading_zeros(number):#string\n",
    "        for (i, digit) in enumerate(number):\n",
    "            if digit !=\"0\":\n",
    "                return (len(number)-i)\n",
    "            else: return False\n",
    "    if check_leading_zeros(str(n)) == False:\n",
    "        print(\"Zero!\")\n",
    "    else: return check_leading_zeros(str(n))\n",
    "print(digits(77))"
   ]
  },
  {
   "cell_type": "code",
   "execution_count": 8,
   "id": "e8fe307c",
   "metadata": {},
   "outputs": [
    {
     "name": "stdout",
     "output_type": "stream",
     "text": [
      "[[1, 2, 3], [2, 4, 6], [3, 6, 9]]\n"
     ]
    }
   ],
   "source": [
    "def multiplication_table(size):\n",
    "    return [[i*j for j in range(1,size+1)] for i in range(1, size+1)]\n",
    "print(multiplication_table(3))"
   ]
  }
 ],
 "metadata": {
  "kernelspec": {
   "display_name": "Python 3 (ipykernel)",
   "language": "python",
   "name": "python3"
  },
  "language_info": {
   "codemirror_mode": {
    "name": "ipython",
    "version": 3
   },
   "file_extension": ".py",
   "mimetype": "text/x-python",
   "name": "python",
   "nbconvert_exporter": "python",
   "pygments_lexer": "ipython3",
   "version": "3.9.7"
  }
 },
 "nbformat": 4,
 "nbformat_minor": 5
}
