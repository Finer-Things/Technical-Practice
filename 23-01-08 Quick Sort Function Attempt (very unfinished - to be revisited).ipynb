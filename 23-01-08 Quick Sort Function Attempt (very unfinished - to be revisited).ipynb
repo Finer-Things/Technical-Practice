{
 "cells": [
  {
   "cell_type": "markdown",
   "id": "9f8f1a09",
   "metadata": {},
   "source": [
    "Quick Sort Function"
   ]
  },
  {
   "cell_type": "code",
   "execution_count": 28,
   "id": "a57626df",
   "metadata": {},
   "outputs": [],
   "source": [
    "def quick_sort(list, i = 0, j = -2, pivot_index = -1):\n",
    "    def switch_elements(list,i,j):\n",
    "        list[i], list[j] = list[j], list[i]\n",
    "        return list\n",
    "    \n",
    "    if len(list) in [0,1]:\n",
    "        return list\n",
    "    pivot_index = pivot_index%len(list)\n",
    "    j = j%len(list)\n",
    "    pivot_term = list[pivot_index]\n",
    "    print(list)\n",
    "    print(f\"pivot_index = {pivot_index}, pivot_term = {pivot_term}\")\n",
    "    while i <= j:\n",
    "        while i <= j and list[i] <= pivot_term:\n",
    "                i += 1\n",
    "        while i <= j and list[j] >= pivot_term:\n",
    "                j -= 1\n",
    "        if list[i] > list[j]:\n",
    "            list = switch_elements(list, i, j)\n",
    "            print(list, i, j, pivot_index)\n",
    "    list = quick_sort(list[ : j+1], j = j-1, pivot_index = j) + [list[pivot_index]] + quick_sort(list[j+1 : -1], i=j+1)\n",
    "    return list\n",
    "    \n",
    "    \n",
    "        \n",
    "    \n",
    "    "
   ]
  },
  {
   "cell_type": "code",
   "execution_count": 29,
   "id": "59877b0f",
   "metadata": {},
   "outputs": [
    {
     "name": "stdout",
     "output_type": "stream",
     "text": [
      "[4, 1, 3, 2]\n",
      "pivot_index = 3, pivot_term = 2\n",
      "[1, 4, 3, 2] 0 1 3\n",
      "[4, 1, 3, 2] 1 0 3\n",
      "[1, 3]\n",
      "pivot_index = 1, pivot_term = 3\n",
      "[4, 2, 1, 3]\n"
     ]
    }
   ],
   "source": [
    "print(quick_sort([4,1,3,2]))"
   ]
  },
  {
   "cell_type": "code",
   "execution_count": null,
   "id": "43eed11b",
   "metadata": {},
   "outputs": [],
   "source": []
  },
  {
   "cell_type": "code",
   "execution_count": null,
   "id": "9a973e96",
   "metadata": {},
   "outputs": [],
   "source": []
  },
  {
   "cell_type": "code",
   "execution_count": null,
   "id": "0aa3c3ed",
   "metadata": {},
   "outputs": [],
   "source": []
  }
 ],
 "metadata": {
  "kernelspec": {
   "display_name": "Python 3 (ipykernel)",
   "language": "python",
   "name": "python3"
  },
  "language_info": {
   "codemirror_mode": {
    "name": "ipython",
    "version": 3
   },
   "file_extension": ".py",
   "mimetype": "text/x-python",
   "name": "python",
   "nbconvert_exporter": "python",
   "pygments_lexer": "ipython3",
   "version": "3.9.7"
  }
 },
 "nbformat": 4,
 "nbformat_minor": 5
}
