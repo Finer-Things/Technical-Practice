{
 "cells": [
  {
   "cell_type": "markdown",
   "id": "e4be45f3",
   "metadata": {},
   "source": [
    "## Problem Description"
   ]
  },
  {
   "cell_type": "markdown",
   "id": "dea29675",
   "metadata": {},
   "source": [
    "Imagine that you are a thief breaking into a house. There are so many valuables to steal, but you’re just one person who can only carry so much. Each item has a weight and value, and your goal is to maximize the total value of items while remaining within the weight limit of your knapsack. Create a knapsack() function that takes in:\n",
    "\n",
    "the total amount of weight you can carry\n",
    "an array of the weights of all of the items\n",
    "an array of the values of all of the items\n",
    "and returns the maximum value that you will be able to carry.\n",
    "\n",
    "For example, let’s say your knapsack can carry 10 units of weight. The item weights are [3, 6, 8] and their values are [50, 60, 100]. Your knapsack function should return 110 since you can carry the first and second items, whose values total 110. If you tried to carry the third item, which has the value of 100, you wouldn’t be able to fit anything else in the knapsack."
   ]
  },
  {
   "cell_type": "markdown",
   "id": "2b22b7e1",
   "metadata": {},
   "source": [
    "## Strategy"
   ]
  },
  {
   "cell_type": "markdown",
   "id": "b0b59d2c",
   "metadata": {},
   "source": [
    "\n",
    "For this task I would like to use tabulation to solve the knapsack subproblem for the sublists of the first i elements. If item_list is the list of items, this would solve the subproblem for each sublist of the form item_list[:i], with i starting at 1. But there is one subtlety: to get to the next step, we need to add the weight of the next item in the list to all of the previous lists, which may or may not go over the weight limit. Since the weight limit is constantant, we need to solve each of these subproblems for all of the weights up to the weight limit. Or, I guess, we just need to make sure the weight limit isn't too big! Oops. Well, that was easier than I thought..."
   ]
  },
  {
   "cell_type": "markdown",
   "id": "add7c212",
   "metadata": {},
   "source": [
    "For implementation, it might be easiest to keep track of everything using indices, since we're given a list of weights and a list of values. We might as well keep track of these items by their index number since that's probably easier to store than items or even tuples of items. \n",
    "\n",
    "Below is my initial attempt with the greedy algorithm. This time around, we (hopefully) won't be overlooking possible arrangements of things in the sack. "
   ]
  },
  {
   "cell_type": "code",
   "execution_count": null,
   "id": "14ce2c00",
   "metadata": {},
   "outputs": [],
   "source": [
    "def knapsack(weight_cap, weights, values):\n",
    "  def division_bandaid(a,b):\n",
    "    if b == 0:\n",
    "      return 10**40\n",
    "    else: \n",
    "      return a/b\n",
    "  weight_densities = [division_bandaid(value,weight) for value, weight in zip(values, weights)]\n",
    "  weight_density_tuples = list(enumerate(weight_densities))\n",
    "  weight_density_tuples.sort(key = lambda pair: pair[1])\n",
    "  density_ordering = [a for a, b in weight_density_tuples]\n",
    "  print(density_ordering)\n",
    "  carried_weight, carried_value = 0, 0\n",
    "  for index in density_ordering:\n",
    "    carried_weight += weights[index]\n",
    "    if carried_weight > weight_cap:\n",
    "      break\n",
    "    carried_value += values[index]\n",
    "  return carried_value\n",
    "\n",
    "weight_cap = 10\n",
    "weights = [3, 6, 8]\n",
    "values = [50, 60, 100]\n",
    "print(knapsack(weight_cap, weights, values))"
   ]
  },
  {
   "cell_type": "markdown",
   "id": "6deab6fd",
   "metadata": {},
   "source": [
    "Time to start working! "
   ]
  },
  {
   "cell_type": "markdown",
   "id": "b4edd960",
   "metadata": {},
   "source": [
    "## My First Attempt Using Tabulation"
   ]
  },
  {
   "cell_type": "code",
   "execution_count": 10,
   "id": "1fae6f65",
   "metadata": {},
   "outputs": [
    {
     "name": "stdout",
     "output_type": "stream",
     "text": [
      "Possible values: [50, 100, 150, 60, 110, 100]\n",
      "150\n"
     ]
    }
   ],
   "source": [
    "def knapsack(weight_cap, weights, values):\n",
    "    possible_packing_list = []\n",
    "    for new_index, (new_weight, new_value) in enumerate(zip(weights, values)):\n",
    "    # For each index in the list, we're going to add tuples of the form (carried_index_list, weight)\n",
    "    #Creating single-value lists to simulate the thief possibly grabbing the index item as his first item. \n",
    "        if new_weight <= weight_cap:\n",
    "            possible_packing_list.append(([new_index], new_weight, new_value))\n",
    "        # Appending each part of the tuple if the weight would not go over the limit. \n",
    "        for (current_index_list, current_total_weight, current_total_value) in possible_packing_list:\n",
    "            if current_total_weight + new_weight <= weight_cap:\n",
    "                possible_packing_list.append(\n",
    "                    (current_index_list + [new_index], current_total_weight + new_weight, current_total_value + new_value)\n",
    "                )\n",
    "        possible_total_values_list = [carried_item_tuple[2] for carried_item_tuple in possible_packing_list]\n",
    "    print(f\"Possible values: {possible_total_values_list}\")\n",
    "    if possible_total_values_list == []:\n",
    "        return 0\n",
    "    return max(possible_total_values_list)\n",
    "\n",
    "\n",
    "\n",
    "\n",
    "\n",
    "\n",
    "\n",
    "weight_cap = 10\n",
    "weights = [3, 6, 8]\n",
    "values = [50, 60, 100]\n",
    "print(knapsack(weight_cap, weights, values))"
   ]
  },
  {
   "cell_type": "markdown",
   "id": "be84bb82",
   "metadata": {},
   "source": [
    "The simple test below worked! Yes! "
   ]
  },
  {
   "cell_type": "code",
   "execution_count": null,
   "id": "836652c0",
   "metadata": {},
   "outputs": [],
   "source": [
    "def knapsack(weight_cap, weights, values):\n",
    "    possible_packing_list = []\n",
    "    for new_index, (new_weight, new_value) in enumerate(zip(weights, values)):\n",
    "    # For each index in the list, we're going to add tuples of the form (carried_index_list, weight)\n",
    "    #Creating single-value lists to simulate the thief possibly grabbing the index item as his first item. \n",
    "        if new_weight <= weight_cap:\n",
    "            possible_packing_list.append(([new_index], new_weight, new_value))\n",
    "        # Appending each part of the tuple if the weight would not go over the limit. \n",
    "        for (current_index_list, current_total_weight, current_total_value) in possible_packing_list:\n",
    "            if current_total_weight + new_weight <= weight_cap:\n",
    "                possible_packing_list.append(\n",
    "                    (current_index_list + [new_index], current_total_weight + new_weight, current_total_value + new_value)\n",
    "                )\n",
    "        possible_total_values_list = [carried_item_tuple[2] for carried_item_tuple in possible_packing_list]\n",
    "    print(f\"Possible values: {possible_total_values_list}\")\n",
    "    if possible_total_values_list == []:\n",
    "        return 0\n",
    "    return max(possible_total_values_list)\n",
    "\n",
    "\n",
    "\n",
    "\n",
    "\n",
    "\n",
    "\n",
    "weight_cap = 1000\n",
    "weights = [2*i for i in range(10000)]\n",
    "values = [10*i for i in range(10000)]\n",
    "print(knapsack(weight_cap, weights, values))"
   ]
  },
  {
   "cell_type": "markdown",
   "id": "341c276e",
   "metadata": {},
   "source": [
    "## Test Failed! "
   ]
  },
  {
   "cell_type": "markdown",
   "id": "4e578075",
   "metadata": {},
   "source": [
    "But when I \"tested\" it with the Codecademy website, the test failed, giving the message below. \n",
    "\n",
    "\"Tests failed to run due to an error: \"Failed to test your code.\". Check your code and try again.\"\n",
    "\n",
    "I like running things in this program, so I transferred over the code to something below and tried some bigger numbers. After about 10 seconds, it was fairly clear that this was too slow. Luckily, I realized that keeping track of all the intermediate lists is completely unecessary. We just need to store the total weight and total value parameters. "
   ]
  },
  {
   "cell_type": "markdown",
   "id": "2472ab44",
   "metadata": {},
   "source": [
    "## Let's try again without storing the lists. "
   ]
  },
  {
   "cell_type": "code",
   "execution_count": 5,
   "id": "e90ab1a3",
   "metadata": {},
   "outputs": [
    {
     "name": "stdout",
     "output_type": "stream",
     "text": [
      "Possible values: [50, 110, 60, 100, 100, 50, 100, 100, 50]\n",
      "110\n"
     ]
    }
   ],
   "source": [
    "def knapsack(weight_cap, weights, values):\n",
    "    possible_packing_list = []\n",
    "    for new_index, (new_weight, new_value) in enumerate(zip(weights, values)):\n",
    "    # For each index in the list, we're going to add tuples of the form (carried_index_list, weight)\n",
    "    #Creating single-value lists to simulate the thief possibly grabbing the index item as his first item. \n",
    "        for (current_total_weight, current_total_value) in possible_packing_list:\n",
    "            if current_total_weight + new_weight <= weight_cap:\n",
    "                possible_packing_list.append(\n",
    "                    (current_total_weight + new_weight, current_total_value + new_value)\n",
    "                )\n",
    "        possible_total_values_list = [carried_item_tuple[1] for carried_item_tuple in possible_packing_list]\n",
    "        if new_weight <= weight_cap:\n",
    "            possible_packing_list.append((new_weight, new_value))\n",
    "        \n",
    "    print(f\"Possible values: {possible_total_values_list}\")\n",
    "    if possible_total_values_list == []:\n",
    "        return 0\n",
    "    return max(possible_total_values_list)\n",
    "\n",
    "\n",
    "\n",
    "\n",
    "\n",
    "\n",
    "\n",
    "weight_cap = 10\n",
    "weights = [3, 6, 8, 5, 5, 9]\n",
    "values = [50, 60, 100, 50, 50, 95]\n",
    "print(knapsack(weight_cap, weights, values))"
   ]
  },
  {
   "cell_type": "markdown",
   "id": "1276c3b0",
   "metadata": {},
   "source": [
    "Still very slow! Let's try a dictionary instead, where the keys are the weights and the values are, well, the values! If a key:value pair is already there with a lower value, we'll replace it with the higher value. "
   ]
  },
  {
   "cell_type": "code",
   "execution_count": 22,
   "id": "468fa245",
   "metadata": {},
   "outputs": [
    {
     "name": "stdout",
     "output_type": "stream",
     "text": [
      "Possible values: [0, 0, 10, 10, 20, 20, 30, 30, 40, 40, 50, 50, 60, 60, 70, 70, 80, 80, 90, 90, 100, 100, 110, 110, 120, 120, 130, 130, 140, 140, 150, 150, 160, 160, 170, 170, 180, 180, 190, 190, 200, 200, 210, 210, 220, 220, 230, 230, 240, 240, 250, 250, 260, 260, 270, 270, 280, 280, 290, 290, 300, 300, 310, 310, 320, 320, 330, 330, 340, 340, 350, 350, 360, 360, 370, 370, 380, 380, 390, 390, 400, 400, 410, 410, 420, 420, 430, 430, 440, 440, 450, 450, 460, 460, 470, 470, 480, 480, 490, 490, 500, 500, 510, 510, 520, 520, 530, 530, 540, 540, 550, 550, 560, 560, 570, 570, 580, 580, 590, 590, 600, 600, 610, 610, 620, 620, 630, 630, 640, 640, 650, 650, 660, 660, 670, 670, 680, 680, 690, 690, 700, 700, 710, 710, 720, 720, 730, 730, 740, 740, 750, 750, 760, 760, 770, 770, 780, 780, 790, 790, 800, 800, 810, 810, 820, 820, 830, 830, 840, 840, 850, 850, 860, 860, 870, 870, 880, 880, 890, 890, 900, 900, 910, 910, 920, 920, 930, 930, 940, 940, 950, 950, 960, 960, 970, 970, 980, 980, 990, 990, 1000, 1000, 1010, 1010, 1020, 1020, 1030, 1030, 1040, 1040, 1050, 1050, 1060, 1060, 1070, 1070, 1080, 1080, 1090, 1090, 1100, 1100, 1110, 1110, 1120, 1120, 1130, 1130, 1140, 1140, 1150, 1150, 1160, 1160, 1170, 1170, 1180, 1180, 1190, 1190, 1200, 1200, 1210, 1210, 1220, 1220, 1230, 1230, 1240, 1240, 1250, 1250, 1260, 1260, 1270, 1270, 1280, 1280, 1290, 1290, 1300, 1300, 1310, 1310, 1320, 1320, 1330, 1330, 1340, 1340, 1350, 1350, 1360, 1360, 1370, 1370, 1380, 1380, 1390, 1390, 1400, 1400, 1410, 1410, 1420, 1420, 1430, 1430, 1440, 1440, 1450, 1450, 1460, 1460, 1470, 1470, 1480, 1480, 1490, 1490, 1500, 1500, 1510, 1510, 1520, 1520, 1530, 1530, 1540, 1540, 1550, 1550, 1560, 1560, 1570, 1570, 1580, 1580, 1590, 1590, 1600, 1600, 1610, 1610, 1620, 1620, 1630, 1630, 1640, 1640, 1650, 1650, 1660, 1660, 1670, 1670, 1680, 1680, 1690, 1690, 1700, 1700, 1710, 1710, 1720, 1720, 1730, 1730, 1740, 1740, 1750, 1750, 1760, 1760, 1770, 1770, 1780, 1780, 1790, 1790, 1800, 1800, 1810, 1810, 1820, 1820, 1830, 1830, 1840, 1840, 1850, 1850, 1860, 1860, 1870, 1870, 1880, 1880, 1890, 1890, 1900, 1900, 1910, 1910, 1920, 1920, 1930, 1930, 1940, 1940, 1950, 1950, 1960, 1960, 1970, 1970, 1980, 1980, 1990, 1990, 2000, 2000, 2010, 2010, 2020, 2020, 2030, 2030, 2040, 2040, 2050, 2050, 2060, 2060, 2070, 2070, 2080, 2080, 2090, 2090, 2100, 2100, 2110, 2110, 2120, 2120, 2130, 2130, 2140, 2140, 2150, 2150, 2160, 2160, 2170, 2170, 2180, 2180, 2190, 2190, 2200, 2200, 2210, 2210, 2220, 2220, 2230, 2230, 2240, 2240, 2250, 2250, 2260, 2260, 2270, 2270, 2280, 2280, 2290, 2290, 2300, 2300, 2310, 2310, 2320, 2320, 2330, 2330, 2340, 2340, 2350, 2350, 2360, 2360, 2370, 2370, 2380, 2380, 2390, 2390, 2400, 2400, 2410, 2410, 2420, 2420, 2430, 2430, 2440, 2440, 2450, 2450, 2460, 2460, 2470, 2470, 2480, 2480, 2490, 2490, 2500, 2500, 2510, 2510, 2520, 2520, 2530, 2530, 2540, 2540, 2550, 2550, 2560, 2560, 2570, 2570, 2580, 2580, 2590, 2590, 2600, 2600, 2610, 2610, 2620, 2620, 2630, 2630, 2640, 2640, 2650, 2650, 2660, 2660, 2670, 2670, 2680, 2680, 2690, 2690, 2700, 2700, 2710, 2710, 2720, 2720, 2730, 2730, 2740, 2740, 2750, 2750, 2760, 2760, 2770, 2770, 2780, 2780, 2790, 2790, 2800, 2800, 2810, 2810, 2820, 2820, 2830, 2830, 2840, 2840, 2850, 2850, 2860, 2860, 2870, 2870, 2880, 2880, 2890, 2890, 2900, 2900, 2910, 2910, 2920, 2920, 2930, 2930, 2940, 2940, 2950, 2950, 2960, 2960, 2970, 2970, 2980, 2980, 2990, 2990, 3000, 3000, 3010, 3010, 3020, 3020, 3030, 3030, 3040, 3040, 3050, 3050, 3060, 3060, 3070, 3070, 3080, 3080, 3090, 3090, 3100, 3100, 3110, 3110, 3120, 3120, 3130, 3130, 3140, 3140, 3150, 3150, 3160, 3160, 3170, 3170, 3180, 3180, 3190, 3190, 3200, 3200, 3210, 3210, 3220, 3220, 3230, 3230, 3240, 3240, 3250, 3250, 3260, 3260, 3270, 3270, 3280, 3280, 3290, 3290, 3300, 3300, 3310, 3310, 3320, 3320, 3330, 3330, 3340, 3340, 3350, 3350, 3360, 3360, 3370, 3370, 3380, 3380, 3390, 3390, 3400, 3400, 3410, 3410, 3420, 3420, 3430, 3430, 3440, 3440, 3450, 3450, 3460, 3460, 3470, 3470, 3480, 3480, 3490, 3490, 3500, 3500, 3510, 3510, 3520, 3520, 3530, 3530, 3540, 3540, 3550, 3550, 3560, 3560, 3570, 3570, 3580, 3580, 3590, 3590, 3600, 3600, 3610, 3610, 3620, 3620, 3630, 3630, 3640, 3640, 3650, 3650, 3660, 3660, 3670, 3670, 3680, 3680, 3690, 3690, 3700, 3700, 3710, 3710, 3720, 3720, 3730, 3730, 3740, 3740, 3750, 3750, 3760, 3760, 3770, 3770, 3780, 3780, 3790, 3790, 3800, 3800, 3810, 3810, 3820, 3820, 3830, 3830, 3840, 3840, 3850, 3850, 3860, 3860, 3870, 3870, 3880, 3880, 3890, 3890, 3900, 3900, 3910, 3910, 3920, 3920, 3930, 3930, 3940, 3940, 3950, 3950, 3960, 3960, 3970, 3970, 3980, 3980, 3990, 3990, 4000, 4000, 4010, 4010, 4020, 4020, 4030, 4030, 4040, 4040, 4050, 4050, 4060, 4060, 4070, 4070, 4080, 4080, 4090, 4090, 4100, 4100, 4110, 4110, 4120, 4120, 4130, 4130, 4140, 4140, 4150, 4150, 4160, 4160, 4170, 4170, 4180, 4180, 4190, 4190, 4200, 4200, 4210, 4210, 4220, 4220, 4230, 4230, 4240, 4240, 4250, 4250, 4260, 4260, 4270, 4270, 4280, 4280, 4290, 4290, 4300, 4300, 4310, 4310, 4320, 4320, 4330, 4330, 4340, 4340, 4350, 4350, 4360, 4360, 4370, 4370, 4380, 4380, 4390, 4390, 4400, 4400, 4410, 4410, 4420, 4420, 4430, 4430, 4440, 4440, 4450, 4450, 4460, 4460, 4470, 4470, 4480, 4480, 4490, 4490, 4500, 4500, 4510, 4510, 4520, 4520, 4530, 4530, 4540, 4540, 4550, 4550, 4560, 4560, 4570, 4570, 4580, 4580, 4590, 4590, 4600, 4600, 4610, 4610, 4620, 4620, 4630, 4630, 4640, 4640, 4650, 4650, 4660, 4660, 4670, 4670, 4680, 4680, 4690, 4690, 4700, 4700, 4710, 4710, 4720, 4720, 4730, 4730, 4740, 4740, 4750, 4750, 4760, 4760, 4770, 4770, 4780, 4780, 4790, 4790, 4800, 4800, 4810, 4810, 4820, 4820, 4830, 4830, 4840, 4840, 4850, 4850, 4860, 4860, 4870, 4870, 4880, 4880, 4890, 4890, 4900, 4900, 4910, 4910, 4920, 4920, 4930, 4930, 4940, 4940, 4950, 4950, 4960, 4960, 4970, 4970, 4980, 4980, 4990, 4990, 5000]\n",
      "5000\n"
     ]
    }
   ],
   "source": [
    "def knapsack(weight_cap, weights, values):\n",
    "    possible_payloads = {i:0 for i in range(weight_cap + 1)}\n",
    "    for new_weight, new_value in zip(weights, values):\n",
    "        for current_total_weight, current_total_value in possible_payloads.items():\n",
    "            new_total_weight, new_total_value = current_total_weight + new_weight, current_total_value + new_value\n",
    "            if possible_payloads.get(new_total_weight) == None:\n",
    "                if new_total_weight >= weight_cap:\n",
    "                    break\n",
    "                possible_payloads[new_total_weight] = new_total_value\n",
    "            elif new_total_value >= possible_payloads[new_total_weight]:\n",
    "                possible_payloads[new_total_weight] = new_total_value\n",
    "    possible_total_values_list = [value for key, value in possible_payloads.items()]\n",
    "    print(f\"Possible values: {possible_total_values_list}\")\n",
    "    return max(possible_total_values_list)\n",
    "\n",
    "\n",
    "\n",
    "\n",
    "\n",
    "\n",
    "\n",
    "\n",
    "\n",
    "weight_cap = 1000\n",
    "weights = [2*i for i in range(1000)]\n",
    "values = [10*i for i in range(1000)]\n",
    "print(knapsack(weight_cap, weights, values))"
   ]
  }
 ],
 "metadata": {
  "kernelspec": {
   "display_name": "Python 3 (ipykernel)",
   "language": "python",
   "name": "python3"
  },
  "language_info": {
   "codemirror_mode": {
    "name": "ipython",
    "version": 3
   },
   "file_extension": ".py",
   "mimetype": "text/x-python",
   "name": "python",
   "nbconvert_exporter": "python",
   "pygments_lexer": "ipython3",
   "version": "3.9.7"
  }
 },
 "nbformat": 4,
 "nbformat_minor": 5
}
