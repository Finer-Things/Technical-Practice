{
 "cells": [
  {
   "cell_type": "markdown",
   "id": "ef80f17b",
   "metadata": {},
   "source": [
    "# Euclid's Algorithm"
   ]
  },
  {
   "cell_type": "markdown",
   "id": "5d73555a",
   "metadata": {},
   "source": [
    "## The goal of Euclid's Algorithm\n",
    "Given two integers x and y, the algorithm returns integers a and b such that ax + by = d, their greatest common divisor. Note that with a and b found, d can be immediately obtained from the equation above, so d need not be returned by the function. "
   ]
  },
  {
   "cell_type": "markdown",
   "id": "f7fe2d97",
   "metadata": {},
   "source": [
    "## Memoization Attempt (with success!)"
   ]
  },
  {
   "cell_type": "code",
   "execution_count": 6,
   "id": "c75487fe",
   "metadata": {
    "scrolled": false
   },
   "outputs": [
    {
     "name": "stdout",
     "output_type": "stream",
     "text": [
      "500376 = 0*1237569 + 500376\n",
      "1237569 = 2*500376 + 236817\n",
      "500376 = 2*236817 + 26742\n",
      "236817 = 8*26742 + 22881\n",
      "26742 = 1*22881 + 3861\n",
      "22881 = 5*3861 + 3576\n",
      "3861 = 1*3576 + 285\n",
      "3576 = 12*285 + 156\n",
      "285 = 1*156 + 129\n",
      "156 = 1*129 + 27\n",
      "129 = 4*27 + 21\n",
      "27 = 1*21 + 6\n",
      "21 = 3*6 + 3\n",
      "6 = 2*3 + 0\n",
      "d = 3\n",
      "\n",
      "You can comment the print statement (that you see above) out of the function. It just prints x = q*y + r for each\n",
      "step of the algorithm.If you want to look at the second to last line, the 'r' there should be the gcd of x and y. \n",
      "It should be d = 3.\n",
      "\n",
      "x = 500376, y = 1237569, and our function told us a = 182382 and b = -73741.\n",
      "Here's the check: ax + by should be their GCD. Let's see: d = ax + by = 3\n",
      "\n",
      "If d is a divisor of both x and y, then it must be the greatest common divisor (because no other divisor\n",
      "can be expressed as the sum of a multiple of x and a multiple of y. In the languate of ring theory, \n",
      "<d> = <x,y> if and only if d divides both a and b (it's a common divisor) and d = ax + by for some a, b in Z.\n",
      "Check: x = 166792d + 0, and y = 412523d + 0.\n",
      "Yes, it checks out!\n"
     ]
    }
   ],
   "source": [
    "from functools import lru_cache\n",
    "\n",
    "@lru_cache(maxsize=None)\n",
    "def euclid_alg_2(x,y):\n",
    "    q, r = divmod(x,y)\n",
    "    print(f\"{x} = {q}*{y} + {r}\")\n",
    "    if r == 0:\n",
    "        print(f\"d = {y}\")\n",
    "        return 0, 1\n",
    "#     if y%r == 0:\n",
    "#         return 1, -q\n",
    "    return euclid_alg_2(y, r)[1], (euclid_alg_2(y,r)[0] - euclid_alg_2(y,r)[1]*q)\n",
    "\n",
    "x, y = 500376, 1237569\n",
    "a, b = euclid_alg_2(x,y)\n",
    "d = a*x + b*y\n",
    "print(\"\\nYou can comment the print statement (that you see above) out of the function. It just prints x = q*y + r for each\")\n",
    "print(\"step of the algorithm.If you want to look at the second to last line, the 'r' there should be the gcd of x and y. \")\n",
    "print(f\"It should be d = {d}.\\n\")\n",
    "print(f\"x = {x}, y = {y}, and our function told us a = {a} and b = {b}.\")\n",
    "print(f\"Here's the check: ax + by should be their GCD. Let's see: d = ax + by = {a*x + b*y}\\n\")\n",
    "print(f\"If d is a divisor of both x and y, then it must be the greatest common divisor (because no other divisor\")\n",
    "print(f\"can be expressed as the sum of a multiple of x and a multiple of y. In the languate of ring theory, \")\n",
    "print(f\"<d> = <x,y> if and only if d divides both a and b (it's a common divisor) and d = ax + by for some a, b in Z.\")\n",
    "q1, r1 = divmod(x, d)\n",
    "q2, r2 = divmod(y, d)\n",
    "print(f\"Check: x = {q1}d + {r1}, and y = {q2}d + {r2}.\")\n",
    "if (r1, r2) == (0, 0):\n",
    "    print(\"Yes, it checks out!\")\n",
    "else: \n",
    "    print(\"Hang on! The remainders are not both 0, so d is NOT a common divisor. What happened?\")\n"
   ]
  },
  {
   "cell_type": "markdown",
   "id": "d68f9f85",
   "metadata": {},
   "source": [
    "## Using 2-way Iteration (incomplete)"
   ]
  },
  {
   "cell_type": "markdown",
   "id": "af8cbc43",
   "metadata": {},
   "source": [
    "This attempt was my first attempt. When I got to the bottom of the long division part I realized that it was a question of bootstrapping my way back to the top with the coefficients a and b. This seemed like a great opportunity to use recursion to greatly simplify the code. And though the recursion didn't turn out quite as elegantly as I wanted it to (there are three recursive calls for each layer and I can't see a way to avoid this), the @Cache decorator makes this a non-issue. \n",
    "\n",
    "Below is the first, algorithmic attempt. "
   ]
  },
  {
   "cell_type": "markdown",
   "id": "344b9325",
   "metadata": {},
   "source": [
    "Let's start by modeling the process and then attempt to recreate it through code. Let's choose 70 and 13. \n",
    "\n",
    "70 = 5*13 + 5\n",
    "13 = 2*5 + 3\n",
    "3 = 1*2 + 1\n",
    "2 = 2*1 + 0\n",
    "\n",
    "When we have a remainder of 0, we wish to retrieve the previous remainder and start by reusing that equation. We can model this by making a sequence of divmod pairs. \n",
    "\n",
    "Now for the next part: Manipulating each of the above equations to obtain the a and b values that achieve d as an integer linear combination. \n",
    "\n",
    "1 = 1*2 - 2*1"
   ]
  },
  {
   "cell_type": "code",
   "execution_count": 2,
   "id": "36ea02ca",
   "metadata": {},
   "outputs": [],
   "source": [
    "def euclid_alg(x, y):\n",
    "    xy_list = sorted([x, y])\n",
    "    x, y = xy_list[1], xy_list[0]\n",
    "    divmod_pairs = []\n",
    "    ideal_members = [x, y]\n",
    "    while y != 0:\n",
    "        divmod_pairs.append(divmod(x,y))\n",
    "        x, y = y, x%y\n",
    "        ideal_members.append(y)\n",
    "    print(ideal_members)    \n",
    "    print(divmod_pairs)\n",
    "    # With the while loop completed, the final remainder should be 0, which is ideal_members[-1]. \n",
    "    # This means that the second-to-last term is the gcd, so we make d = ideal_members[-2]. \n",
    "    d = ideal_members[-2]\n",
    "    print(d)\n",
    "    \n",
    "#     return d, a, b"
   ]
  },
  {
   "cell_type": "code",
   "execution_count": 3,
   "id": "e3bce426",
   "metadata": {},
   "outputs": [
    {
     "name": "stdout",
     "output_type": "stream",
     "text": [
      "[70, 13, 5, 3, 2, 1, 0]\n",
      "[(5, 5), (2, 3), (1, 2), (1, 1), (2, 0)]\n",
      "1\n"
     ]
    }
   ],
   "source": [
    "euclid_alg(70, 13)"
   ]
  }
 ],
 "metadata": {
  "kernelspec": {
   "display_name": "Python 3 (ipykernel)",
   "language": "python",
   "name": "python3"
  },
  "language_info": {
   "codemirror_mode": {
    "name": "ipython",
    "version": 3
   },
   "file_extension": ".py",
   "mimetype": "text/x-python",
   "name": "python",
   "nbconvert_exporter": "python",
   "pygments_lexer": "ipython3",
   "version": "3.9.7"
  }
 },
 "nbformat": 4,
 "nbformat_minor": 5
}
