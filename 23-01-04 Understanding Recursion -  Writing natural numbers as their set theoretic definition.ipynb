{
 "cells": [
  {
   "cell_type": "markdown",
   "id": "83ba2123",
   "metadata": {},
   "source": [
    "# Recursion with the Set Theoretic Definition of Each Natural Number"
   ]
  },
  {
   "cell_type": "markdown",
   "id": "70eb3667",
   "metadata": {},
   "source": [
    "## Summary"
   ]
  },
  {
   "cell_type": "markdown",
   "id": "e136e8d5",
   "metadata": {},
   "source": [
    "The purpose of this file is to implement recursion with a familiar example: The natural numbers expressed as sets. \n",
    "\n",
    "I came apon this from trying a coding challenge that required dynamic programming, which I did not know anything about. I included that problem and my initial thoughts about memoization and tabulation. I hope that documenting my progress and thoughts in this way is productive, either to future me or to someone else reading this. "
   ]
  },
  {
   "cell_type": "markdown",
   "id": "0bf33a2f",
   "metadata": {},
   "source": [
    "## Background"
   ]
  },
  {
   "cell_type": "markdown",
   "id": "317c2c20",
   "metadata": {},
   "source": [
    "Last week I attempted the knapsack problem while knowing nothing about dynamic programming. "
   ]
  },
  {
   "cell_type": "markdown",
   "id": "980f4fca",
   "metadata": {},
   "source": [
    "### The Knapsack Problem"
   ]
  },
  {
   "cell_type": "markdown",
   "id": "d0b1d033",
   "metadata": {},
   "source": [
    "Imagine that you are a thief breaking into a house. There are so many valuables to steal, but you’re just one person who can only carry so much. Each item has a weight and value, and your goal is to maximize the total value of items while remaining within the weight limit of your knapsack. Create a knapsack() function that takes in:\n",
    "\n",
    "the total amount of weight you can carry\n",
    "an array of the weights of all of the items\n",
    "an array of the values of all of the items\n",
    "and returns the maximum value that you will be able to carry.\n",
    "\n",
    "For example, let’s say your knapsack can carry 10 units of weight. The item weights are [3, 6, 8] and their values are [50, 60, 100]. Your knapsack function should return 110 since you can carry the first and second items, whose values total 110. If you tried to carry the third item, which has the value of 100, you wouldn’t be able to fit anything else in the knapsack."
   ]
  },
  {
   "cell_type": "markdown",
   "id": "53083aca",
   "metadata": {},
   "source": [
    "### What I did"
   ]
  },
  {
   "cell_type": "markdown",
   "id": "20c0ab8b",
   "metadata": {},
   "source": [
    "I naively tried a greedy algorithm that just sorted the items by value density. This doesn't always work, and I'm happy to say that I immediately thought of this counter-example as soon as I thought of this strategy:\n",
    "\n",
    "The knapsack weight limit is 10 lbs, there are two items 5 pound objects that are each worth 5 dollars and there is a 9 lb object worth 9.50 dollars. My greedy algorithm would almost fill the knapsack with the 9 lb, 9.50 dollar object first and not have room for either of the other two. But the best strategy would be to fill the knapsack with the two 5 lb, 5 dollar objects for a total of 10 dollars in value. \n",
    "\n",
    "But this was the only answer I had, because the only alternative I could think of was iterating through all of the possible permutations of the list of items, packing them into the knapsack until it was filled, and then comparing these by total value. But this scaled terribly (there were n! permutations of our item lists to be parsed). \n",
    "\n",
    "After this didn't work, I looked up dynamic programming and found some pretty cool resources on it. There are two directions one can take with this strategy: Memoization, which speeds up inefficient recursion approaches, and Tabulation, which approaches the problem from the other end with a more constructive approach. \n",
    "\n",
    "The example that was frequently given was recursion being used to compute Fibonacci numbers. This made me want to throw up a little bit in my mouth because it really sucks. If memory serves, I saw a video months ago that advertised a cache decorator that does what I know think is Memoization: It caches all of the previously computed Fibonacci values so they don't have to be repeatedly computed via recursion. And this is using memory to avoid repeated calls. \n",
    "\n",
    "But I really didn't want to try this because I just got done showing my Linear Algebra students how to use matrix diagonalization to come up with an explicit formula for Fibonacci numbers using powers of the matrix [[1, 0], [1, 1]] on the first to Fibonacci numbers. Thus, the program below much more efficiently computes the nth fibonacci number, and it was something I used for a previous interview question. \n",
    "\n",
    "__As a side thought, I thought of a Tabulation potential approach to the knapsack problem that night__: After reading about Memoization and Tabulation later that night (thanks Enddy for encouraging me to look into dynamic programming without waiting!) I saw a great Youtube video on Tabulation that used an example of finding the longest incresing subsequence of a sequence (lists were used in Python) and the author had a great visualization using directed graphs. This description about inductively using the solutions to sub-problems to solve your over-all problem eventually lead me to the idea of iterating through knapsack and solving the knapsack problem for each sublist of the form item_list[:i] for i in range(len(item_list)+2) for each knapsack weight from one unit (maybe a penny) up to the actual knapsack weight. I was worried at first that this would scale exponentially with the list length, but the bound on the knapsack weight keeps this from taking exponential time or space. In fact, I think it's linear for both. So, future me: Does this strategy work? "
   ]
  },
  {
   "cell_type": "markdown",
   "id": "6557a606",
   "metadata": {},
   "source": [
    "### (Better) nth Fibonacci Number Finder"
   ]
  },
  {
   "cell_type": "code",
   "execution_count": 11,
   "id": "fe4c21f9",
   "metadata": {},
   "outputs": [],
   "source": [
    "def nth_fibonacci_number_finder(n):\n",
    "    a = 0\n",
    "    b = 1\n",
    "    for i in range(n):\n",
    "        a, b = b, a+b\n",
    "    return a\n",
    "\n",
    "# You can uncomment the lines below to print the first 12 Fibonacci numbers using this function.\n",
    "# ordinal = lambda n: \"%d%s\" % (n,\"tsnrhtdd\"[(n//10%10!=1)*(n%10<4)*n%10::4])\n",
    "# for i in range(12):\n",
    "#     print(f\"The {ordinal(i)} Fibonacci number is {nth_fibonacci_number_finder(i)}\")"
   ]
  },
  {
   "cell_type": "markdown",
   "id": "a4f06298",
   "metadata": {},
   "source": [
    "Because the Fibonacci recursion program was unappealing, I tried to think of something that was defined recursively while teaching Math, ideally something that could be mentioned in an Intro to Proofs course. And the informal recursive \"definition\" of the set-theoretic definition of the natural numbers came to mind! This isn't really a definition, since the numbers are defined using Russel's and Whitehead's axioms, but the mental hack of thinking of the natural numbers (and indeed all ordinals) as being the set of all smaller ordinals is a very useful way to quickly generate the ordinal you're thinking of. So this seemed like a great way to practice writing a function recursively! "
   ]
  },
  {
   "cell_type": "markdown",
   "id": "6c96ef57",
   "metadata": {},
   "source": [
    "## Recursion"
   ]
  },
  {
   "cell_type": "markdown",
   "id": "ebec0b6b",
   "metadata": {},
   "source": [
    "### The Function"
   ]
  },
  {
   "cell_type": "markdown",
   "id": "f4fbc826",
   "metadata": {},
   "source": [
    "The goal here is to use recursion to write a function to write 0 as {}, 1 as {{}}, 2 as {{}, {{}}}, etc. Recursion is a nice way to do this, because \"defining\" the numbers recursively as \"the set of all smaller natural numbers that came before them\" is not a bona-fide definition, it is one that will let someone who already understands natural numbers figure out the corresponding set quickly. And more importantly, this \"definition\" is recursive! "
   ]
  },
  {
   "cell_type": "markdown",
   "id": "ce68dc17",
   "metadata": {},
   "source": [
    "### Why are lists used instead of sets?"
   ]
  },
  {
   "cell_type": "markdown",
   "id": "56230faa",
   "metadata": {},
   "source": [
    "The short answer is that in Python, sets are hash tables and their elements/keys can't be mutable. And guess what: Has tables are mutable! \n",
    "\n",
    "When I first tried to write this function I had a vague idea of turning the objects into strings and then using the recursive definition. This didn't work very well because of the presence of quotations marks in the items. And you can't just use sets whose elements are sets because the keys in a hash table cannot be mutable (while sets ARE mutable). This problem is avoided entirely with lists, so the recursion step is done with a list comprehension, the answer is converted to a string and then the list symbols are replaced with set/hashtable symbols. "
   ]
  },
  {
   "cell_type": "markdown",
   "id": "e683f561",
   "metadata": {},
   "source": [
    "### Natural Number to Set Definition Function"
   ]
  },
  {
   "cell_type": "code",
   "execution_count": 13,
   "id": "b61008c5",
   "metadata": {},
   "outputs": [],
   "source": [
    "def number_as_list(n):\n",
    "    return [number_as_list(i) for i in range(n)]\n",
    "\n",
    "def number_as_set_string(n):\n",
    "    return str(number_as_list(n)).replace(\"[\", \"{\").replace(\"]\", \"}\")\n"
   ]
  },
  {
   "cell_type": "markdown",
   "id": "a5b81606",
   "metadata": {},
   "source": [
    "### Test: Writing the natural numbers through 5 as sets/ordinals"
   ]
  },
  {
   "cell_type": "code",
   "execution_count": 14,
   "id": "95ffd961",
   "metadata": {},
   "outputs": [
    {
     "name": "stdout",
     "output_type": "stream",
     "text": [
      "0 := {}\n",
      "1 := {{}}\n",
      "2 := {{}, {{}}}\n",
      "3 := {{}, {{}}, {{}, {{}}}}\n",
      "4 := {{}, {{}}, {{}, {{}}}, {{}, {{}}, {{}, {{}}}}}\n",
      "5 := {{}, {{}}, {{}, {{}}}, {{}, {{}}, {{}, {{}}}}, {{}, {{}}, {{}, {{}}}, {{}, {{}}, {{}, {{}}}}}}\n"
     ]
    }
   ],
   "source": [
    "for i in range(6):\n",
    "    print(f\"{i} := {number_as_set_string(i)}\")"
   ]
  },
  {
   "cell_type": "markdown",
   "id": "a95ce410",
   "metadata": {},
   "source": [
    "I can remember writing out the tests you see above by hand while in a logic class in grad school. My vision got blurry when I got to n = 5 from all of the brackets. It's nice to have a fast, accurate program do it for you! "
   ]
  },
  {
   "cell_type": "markdown",
   "id": "b46b3a91",
   "metadata": {},
   "source": [
    "## Follow-up: Looking into the Cache Decorator"
   ]
  },
  {
   "cell_type": "markdown",
   "id": "11958b3a",
   "metadata": {},
   "source": [
    "As soon as I finished this project I did a quick search for @cache, and from the example description (computing repeated factorials) it looks like a Python cheat code for memoization. One example given for memoization was the factorial function. This was perplexing at first because I couldn't think of how caching could speed up the computation of a factorial function. But this was quickly cleared up when the specified that this was for **repeated** factorial computations. The upshot I got was that if one were to be asked to compute n! for every n in a list, one could find the highest n in that list, store all of the intermediate factorial values, and then just look these up for the smaller n's on that list. But the @cache decorator does this for you automatically because it just stores all of the values as they're computed in your function. So, for example, if you were to compute 100! and then 105! with your recursion function, it would find (and cache) 100! through 1!. I'm actually not sure how this would work, since they're none of them are actually computed until the end, but I guess it's programmed to basically be patient and then story everythying. Anyway, when you go to find 105! afterward, as soon as it goes to evaluate 100!, the cache decorator will hand it 100! because it was previously computed. \n",
    "\n",
    "This seems like it would be significantly easier to understand going the other way, but maybe that's because (I think) Tabulation would be a better approach for this problem, since every intermediate value is computed at some point. "
   ]
  }
 ],
 "metadata": {
  "kernelspec": {
   "display_name": "Python 3 (ipykernel)",
   "language": "python",
   "name": "python3"
  },
  "language_info": {
   "codemirror_mode": {
    "name": "ipython",
    "version": 3
   },
   "file_extension": ".py",
   "mimetype": "text/x-python",
   "name": "python",
   "nbconvert_exporter": "python",
   "pygments_lexer": "ipython3",
   "version": "3.9.7"
  }
 },
 "nbformat": 4,
 "nbformat_minor": 5
}
