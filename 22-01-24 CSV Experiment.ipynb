{
 "cells": [
  {
   "cell_type": "code",
   "execution_count": 10,
   "id": "633a3d02",
   "metadata": {},
   "outputs": [
    {
     "name": "stdout",
     "output_type": "stream",
     "text": [
      "<_io.TextIOWrapper name='W22_MATH34A_31765All.csv' mode='r' encoding='cp1252'>\n"
     ]
    }
   ],
   "source": [
    "\n",
    "# def read_csv_file(filename):\n",
    "#     with open(filename, encoding='utf-8', newline='') as file:\n",
    "#         return list(csv.reader(file))\n",
    "\n",
    "with open(\"W22_MATH34A_31765All.csv\") as egrade_roster:\n",
    "    grades_list = list(egrade_roster)\n",
    "    \n",
    "print(egrade_roster)\n",
    "\n",
    "\n",
    "# egrade_roster = read_csv_file(\"W22_MATH34A_31765All.csv\")\n",
    "\n",
    "\n",
    "    \n",
    "    \n",
    "    "
   ]
  },
  {
   "cell_type": "code",
   "execution_count": 11,
   "id": "b905a1e9",
   "metadata": {},
   "outputs": [
    {
     "name": "stdout",
     "output_type": "stream",
     "text": [
      "          Perm #  Grade  Final Units    Student Last Student First Middle  \\\n",
      "Enrl Cd                                                                     \n",
      "31773    5894506    NaN          4.0        ADJANGBA     FRANCI ELIZABETH   \n",
      "31773    8775736    NaN          4.0          ALDANA           JOSECARLOS   \n",
      "31781    8059032    NaN          4.0       ALEXANDER        AIHRYIS ZIARE   \n",
      "31799    6540397    NaN          4.0         AREVALO       ILAN VLADMINIR   \n",
      "31781    6149017    NaN          4.0    ARIAS PINEDA       MARIA FERNANDA   \n",
      "...          ...    ...          ...             ...                  ...   \n",
      "31807    5427380    NaN          4.0             XIE                  AMY   \n",
      "31781    5755020    NaN          4.0  ZARAGOZA WAZNY           EMILY ANNE   \n",
      "31807    6253512    NaN          4.0   ZENG-PEDERSEN      ANDREA CHRISTIN   \n",
      "31807    5563531    NaN          4.0             ZHA              MINGJUN   \n",
      "31781    6444566    NaN          4.0         ZOTTOLO         JAZMINE STAR   \n",
      "\n",
      "        Quarter Course ID  Section  \\\n",
      "Enrl Cd                              \n",
      "31773       W22   MATH34A      100   \n",
      "31773       W22   MATH34A      100   \n",
      "31781       W22   MATH34A      100   \n",
      "31799       W22   MATH34A      100   \n",
      "31781       W22   MATH34A      100   \n",
      "...         ...       ...      ...   \n",
      "31807       W22   MATH34A      100   \n",
      "31781       W22   MATH34A      100   \n",
      "31807       W22   MATH34A      100   \n",
      "31807       W22   MATH34A      100   \n",
      "31781       W22   MATH34A      100   \n",
      "\n",
      "                             Meeting Time(s) / Location(s)  \\\n",
      "Enrl Cd                                                      \n",
      "31773    T R   2:00- 3:15 TD-W 1701   W    6:00- 6:50 A...   \n",
      "31773    T R   2:00- 3:15 TD-W 1701   W    6:00- 6:50 A...   \n",
      "31781    T R   2:00- 3:15 TD-W 1701   W    6:00- 6:50 A...   \n",
      "31799    T R   2:00- 3:15 TD-W 1701   W    6:00- 6:50 A...   \n",
      "31781    T R   2:00- 3:15 TD-W 1701   W    6:00- 6:50 A...   \n",
      "...                                                    ...   \n",
      "31807    T R   2:00- 3:15 TD-W 1701   W    6:00- 6:50 A...   \n",
      "31781    T R   2:00- 3:15 TD-W 1701   W    6:00- 6:50 A...   \n",
      "31807    T R   2:00- 3:15 TD-W 1701   W    6:00- 6:50 A...   \n",
      "31807    T R   2:00- 3:15 TD-W 1701   W    6:00- 6:50 A...   \n",
      "31781    T R   2:00- 3:15 TD-W 1701   W    6:00- 6:50 A...   \n",
      "\n",
      "                                 Email ClassLevel Major1  Major2  \\\n",
      "Enrl Cd                                                            \n",
      "31773            franci@umail.ucsb.edu         FR  PRBIO     NaN   \n",
      "31773           jaldana@umail.ucsb.edu         SO  PRBIO     NaN   \n",
      "31781           aihryis@umail.ucsb.edu         JR  PRPBS     NaN   \n",
      "31799              ilan@umail.ucsb.edu         FR  PRECO     NaN   \n",
      "31781      mariaspineda@umail.ucsb.edu         FR  PRBIO     NaN   \n",
      "...                                ...        ...    ...     ...   \n",
      "31807         yuxin_xie@umail.ucsb.edu         FR  PRPBS     NaN   \n",
      "31781    ezaragozawazny@umail.ucsb.edu         SO  PRBIO     NaN   \n",
      "31807    azeng-pedersen@umail.ucsb.edu         SO  PRBIO     NaN   \n",
      "31807       mingjun_zha@umail.ucsb.edu         SO  PRPOL     NaN   \n",
      "31781          jzottolo@umail.ucsb.edu         FR  UNDEC     NaN   \n",
      "\n",
      "                     Date/Time             Pronoun  \n",
      "Enrl Cd                                             \n",
      "31773    1/23/2022 11:54:45 PM  She (She/Her/Hers)  \n",
      "31773    1/23/2022 11:54:45 PM     He (He/Him/His)  \n",
      "31781    1/23/2022 11:54:45 PM                 NaN  \n",
      "31799    1/23/2022 11:54:45 PM                 NaN  \n",
      "31781    1/23/2022 11:54:45 PM                 NaN  \n",
      "...                        ...                 ...  \n",
      "31807    1/23/2022 11:54:45 PM                 NaN  \n",
      "31781    1/23/2022 11:54:45 PM  She (She/Her/Hers)  \n",
      "31807    1/23/2022 11:54:45 PM  She (She/Her/Hers)  \n",
      "31807    1/23/2022 11:54:45 PM                 NaN  \n",
      "31781    1/23/2022 11:54:45 PM                 NaN  \n",
      "\n",
      "[152 rows x 15 columns]\n"
     ]
    }
   ],
   "source": [
    "# Load pandas\n",
    "import pandas as pd\n",
    "\n",
    "# Read CSV file into DataFrame df\n",
    "df = pd.read_csv(\"W22_MATH34A_31765All.csv\", index_col=0)\n",
    "\n",
    "# Show dataframe\n",
    "print(df)"
   ]
  }
 ],
 "metadata": {
  "kernelspec": {
   "display_name": "Python 3 (ipykernel)",
   "language": "python",
   "name": "python3"
  },
  "language_info": {
   "codemirror_mode": {
    "name": "ipython",
    "version": 3
   },
   "file_extension": ".py",
   "mimetype": "text/x-python",
   "name": "python",
   "nbconvert_exporter": "python",
   "pygments_lexer": "ipython3",
   "version": "3.9.7"
  }
 },
 "nbformat": 4,
 "nbformat_minor": 5
}
