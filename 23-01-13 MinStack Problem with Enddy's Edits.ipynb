{
 "cells": [
  {
   "cell_type": "code",
   "execution_count": 19,
   "id": "abf91afc",
   "metadata": {},
   "outputs": [],
   "source": [
    "class MinStack(object):\n",
    "    def __init__(self):\n",
    "        self.stack = []\n",
    "        self.min_list = []\n",
    "\n",
    "\n",
    "    def push(self, val):\n",
    "        if self.stack == []:\n",
    "            self.min_list.append(val)\n",
    "        else:\n",
    "            self.min_list.append(min(val, self.min_list[-1]))\n",
    "        self.stack.append(val)\n",
    "                \n",
    "\n",
    "    def pop(self):\n",
    "        if self.stack == []:\n",
    "            raise Exception(\"Cannot pop because your list is empty.\")\n",
    "        self.min_list.pop()    \n",
    "        return self.stack.pop()\n",
    "        \n",
    "\n",
    "    def top(self):\n",
    "        return self.stack[-1]\n",
    "        \n",
    "\n",
    "    def getMin(self):\n",
    "        return self.min_list[-1]"
   ]
  },
  {
   "cell_type": "code",
   "execution_count": 22,
   "id": "8b7e3032",
   "metadata": {},
   "outputs": [
    {
     "name": "stdout",
     "output_type": "stream",
     "text": [
      "[]\n",
      "[1]\n"
     ]
    }
   ],
   "source": [
    "my_stack = MinStack()\n",
    "print(my_stack.min_list)\n",
    "my_stack.push(1)\n",
    "print(my_stack.min_list)\n",
    "\n",
    "# my_stack.push(2)\n",
    "# my_stack.push(10)\n",
    "# my_stack.push(100)\n",
    "# my_stack.push(-1)\n",
    "# my_stack.push(-10)\n",
    "# my_stack.push(-10)\n",
    "# my_stack.pop()\n",
    "# assert -10 == my_stack.getMin(), \"Something\"\n",
    "\n",
    "\n"
   ]
  },
  {
   "cell_type": "code",
   "execution_count": 71,
   "id": "09942de2",
   "metadata": {},
   "outputs": [
    {
     "name": "stdout",
     "output_type": "stream",
     "text": [
      "Original Stack: [2, 3, 4, 5, 8, 4, 6, 9, 1, 5, 5, 5, 1, 2]\n",
      "Original min_list: [(0, 2), (8, 1)] \n",
      " \n",
      " \n",
      "\n",
      "Now we're going to pop some values and see how the stack and min_lists update.\n",
      "Popped value: 2 Current Min_list: [(0, 2), (8, 1)]\t\n",
      "Popped value: 1 Current Min_list: [(0, 2), (8, 1)]\t\n",
      "Popped value: 5 Current Min_list: [(0, 2), (8, 1)]\t\n",
      "Popped value: 5 Current Min_list: [(0, 2), (8, 1)]\t\n",
      "*Removing minimum value of 1.\n",
      "*The new minimum value is 2 at index 0.\n",
      "Popped value: 5 Current Min_list: [(0, 2)]\t\n",
      "Popped value: 1 Current Min_list: [(0, 2)]\t\n",
      "Popped value: 9 Current Min_list: [(0, 2)]\t\n",
      "Popped value: 6 Current Min_list: [(0, 2)]\t\n",
      "Popped value: 4 Current Min_list: [(0, 2)]\t\n",
      "Popped value: 8 Current Min_list: [(0, 2)]\t\n",
      "\n",
      " \n",
      " \n",
      "\n",
      "Now we push 10 times.\n",
      "[2, 3, 4, 5, 8] \t [(0, 2)]\n",
      "[2, 3, 4, 5, 8, 4] \t [(0, 2)]\n",
      "[2, 3, 4, 5, 8, 4, 6] \t [(0, 2)]\n",
      "[2, 3, 4, 5, 8, 4, 6, 9] \t [(0, 2)]\n",
      "[2, 3, 4, 5, 8, 4, 6, 9, 1] \t [(0, 2), (8, 1)]\n",
      "[2, 3, 4, 5, 8, 4, 6, 9, 1, 5] \t [(0, 2), (8, 1)]\n",
      "[2, 3, 4, 5, 8, 4, 6, 9, 1, 5, 5] \t [(0, 2), (8, 1)]\n",
      "[2, 3, 4, 5, 8, 4, 6, 9, 1, 5, 5, 5] \t [(0, 2), (8, 1)]\n",
      "[2, 3, 4, 5, 8, 4, 6, 9, 1, 5, 5, 5, 1] \t [(0, 2), (8, 1)]\n",
      "[2, 3, 4, 5, 8, 4, 6, 9, 1, 5, 5, 5, 1, 2] \t [(0, 2), (8, 1)]\n"
     ]
    }
   ],
   "source": [
    "my_stack = MinStack([2,3,4,5,8,4,6,9,1,5,5,5,1,2])\n",
    "n = len(my_stack.stack)\n",
    "original_list = my_stack.stack.copy()\n",
    "print(f\"Original Stack: {my_stack.stack}\")\n",
    "print(f\"Original min_list: {my_stack.min_list}\", \"\\n\", \"\\n\", \"\\n\")\n",
    "print(\"Now we're going to pop some values and see how the stack and min_lists update.\")\n",
    "for i in range(10):\n",
    "    print(f\"Popped value: {my_stack.pop()}\", \n",
    "          f\"Current Min_list: {my_stack.min_list}\", \n",
    "#           f\"Current Stack: {my_stack.stack}\",  \n",
    "          end=\"\\t\")\n",
    "    print(\"\")\n",
    "    \n",
    "print(\"\\n \\n \\n\")\n",
    "\n",
    "print(\"Now we push 10 times.\")\n",
    "for i in range(10):\n",
    "    my_stack.push(original_list[n-10+i])\n",
    "    print(my_stack.stack, \"\\t\", my_stack.min_list)"
   ]
  },
  {
   "cell_type": "code",
   "execution_count": null,
   "id": "4e0c9283",
   "metadata": {},
   "outputs": [],
   "source": [
    "for idx in range(start, end):\n",
    "    if list[idx] < pivot_element:\n",
    "      list[lesser_than_pointer], list[idx] = list[idx], list[lesser_than_pointer]\n",
    "      lesser_than_pointer += 1"
   ]
  }
 ],
 "metadata": {
  "kernelspec": {
   "display_name": "Python 3 (ipykernel)",
   "language": "python",
   "name": "python3"
  },
  "language_info": {
   "codemirror_mode": {
    "name": "ipython",
    "version": 3
   },
   "file_extension": ".py",
   "mimetype": "text/x-python",
   "name": "python",
   "nbconvert_exporter": "python",
   "pygments_lexer": "ipython3",
   "version": "3.9.7"
  }
 },
 "nbformat": 4,
 "nbformat_minor": 5
}
