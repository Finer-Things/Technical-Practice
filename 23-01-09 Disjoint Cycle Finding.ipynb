{
 "cells": [
  {
   "cell_type": "markdown",
   "id": "45e17f2a",
   "metadata": {},
   "source": [
    "# Input a Permutation of the list [0, ..., n-1] (i.e. on the ordering of n) and this function will tell you its disjoint cycles. "
   ]
  },
  {
   "cell_type": "markdown",
   "id": "030e113b",
   "metadata": {},
   "source": [
    "## Class Definitions"
   ]
  },
  {
   "cell_type": "code",
   "execution_count": 66,
   "id": "c48d5f24",
   "metadata": {},
   "outputs": [],
   "source": [
    "class Permutation():\n",
    "    def __init__(\n",
    "                    self, \n",
    "                    permutation, \n",
    "                    original_list = None, \n",
    "                    name = None, \n",
    "                    length = None, \n",
    "                    disjoint_cycles = None, \n",
    "                    start_at_one = False\n",
    "                ):\n",
    "        self.name = name\n",
    "        self.permutation = list(permutation)\n",
    "        self.length = len(permutation)\n",
    "        # self.original_list = original_list\n",
    "        if original_list != None:\n",
    "            self.original_list = original_list\n",
    "        else:\n",
    "            if start_at_one:\n",
    "                self.original_list = [i+1 for i in range(self.length)]\n",
    "            else:\n",
    "                self.original_list = list(range(self.length))\n",
    "        self.disjoint_cycles = self.find_disjoint_cycles()\n",
    "        \n",
    "    def find_disjoint_cycles(self):\n",
    "        if (set(self.permutation) != set(self.original_list)) or (self.length != len(self.original_list)):\n",
    "            raise Exception('''Your permutation and the original list either do not have the same elements, \n",
    "            do not match in length, or both. Please be sure to enter a permutation of your original list. \n",
    "            Or if you wish to use the default of 0 through n you may. You can also start at 1 if you use the keyword entry:\n",
    "            \"start_at_one = True\".''')\n",
    "        cycle_elements = {element:0 for element in self.original_list}\n",
    "        disjoint_cycles_list = []\n",
    "        for index, element in enumerate(self.original_list):\n",
    "            cycle_generator = element\n",
    "            if cycle_elements[element] == 0:\n",
    "                # 0 for not already part of a cycle - used to remember for a couple lines down. \n",
    "                not_already_a_cycle_condition = 0\n",
    "                # Initializing the orbit list\n",
    "                orbit_list = [element]\n",
    "                # Initiating the orbits of number\n",
    "                number_in_orbit = self.permutation[index]\n",
    "            else: \n",
    "                # 1 for already part of a cycle\n",
    "                not_already_a_cycle_condition = 1\n",
    "            while cycle_elements[element] == 0:\n",
    "                orbit_list += [number_in_orbit]\n",
    "                cycle_elements[number_in_orbit] = 1\n",
    "                number_in_orbit = self.permutation[self.original_list.index(number_in_orbit)]\n",
    "            if not_already_a_cycle_condition == 0:\n",
    "#                 orbit_list = orbit_list[ : -1]\n",
    "#                 orbit_list = orbit_list[-1:] + orbit_list[ : -1]\n",
    "                disjoint_cycles_list += [orbit_list]\n",
    "        return(disjoint_cycles_list)\n",
    "    \n",
    "    def print_disjoint_cycles(self):\n",
    "        if self.name == None:\n",
    "            print(f\"Disjoint cycles:\")\n",
    "        else:\n",
    "            print(f\"Disjoint cycles for {self.name}:\")\n",
    "        for cycle_list in self.disjoint_cycles:\n",
    "            cycle_string = str(cycle_list[0])\n",
    "            for number in cycle_list[1 : ]:\n",
    "                cycle_string += \" -> \" + str(number)\n",
    "            print(cycle_string, \"-> ...\")\n",
    "    \n",
    "    def stringify_map(self):\n",
    "        string = \"\"\n",
    "        for item in self.original_list:\n",
    "            string += str(item) + \"\\t\"\n",
    "        string += \"\\n\"\n",
    "        for item in self.permutation:\n",
    "            string += str(item) + \"\\t\"\n",
    "        return string\n",
    "    \n",
    "    def print_as_map(self):\n",
    "        print(self.stringify_map())\n"
   ]
  },
  {
   "cell_type": "code",
   "execution_count": 68,
   "id": "93950a7b",
   "metadata": {},
   "outputs": [
    {
     "name": "stdout",
     "output_type": "stream",
     "text": [
      "1\t2\t3\t4\t5\t6\t7\t\n",
      "7\t1\t3\t4\t5\t6\t2\t\n",
      "Disjoint cycles for my_permutation:\n",
      "1 -> 7 -> 2 -> 1 -> ...\n",
      "3 -> 3 -> ...\n",
      "4 -> 4 -> ...\n",
      "5 -> 5 -> ...\n",
      "6 -> 6 -> ...\n"
     ]
    }
   ],
   "source": [
    "my_permutation = Permutation([7,1,3,4,5,6,2], name=\"my_permutation\", original_list = None, start_at_one = True)\n",
    "\n",
    "# print(my_permutation.original_list)\n",
    "# print(my_permutation.disjoint_cycles)\n",
    "\n",
    "my_permutation.print_as_map()\n",
    "# print(my_permutation.length)\n",
    "# print(my_permutation.disjoint_cycles)\n",
    "my_permutation.print_disjoint_cycles()\n"
   ]
  },
  {
   "cell_type": "code",
   "execution_count": 40,
   "id": "b491c25b",
   "metadata": {},
   "outputs": [],
   "source": [
    "def disjoint_cycle_finder(permutation):\n",
    "    n = len(permutation)\n",
    "    if set(permutation) != set(range(n)):\n",
    "        print(\"list is not a permutation of 0 through n.\")\n",
    "        return\n",
    "    cycle_elements = {i:0 for i in range(n)}\n",
    "    disjoint_cycles_list = []\n",
    "    for number in permutation:\n",
    "        cycle_generator = number\n",
    "        if cycle_elements[number] == 0:\n",
    "            # 0 for not already part of a cycle - used to remember for a couple lines down. \n",
    "            not_already_a_cycle_condition = 0\n",
    "            # Initializing the orbit list\n",
    "            orbit_list = [number]\n",
    "            # Initiating the orbits of number\n",
    "            number_in_orbit = permutation[number]\n",
    "        else: \n",
    "            # 1 for already part of a cycle\n",
    "            not_already_a_cycle_condition = 1\n",
    "        while cycle_elements[number] == 0:\n",
    "            orbit_list += [number_in_orbit]\n",
    "            cycle_elements[number_in_orbit] = 1\n",
    "            number_in_orbit = permutation[number_in_orbit]\n",
    "        if not_already_a_cycle_condition == 0:\n",
    "            orbit_list = orbit_list[ : -1]\n",
    "            orbit_list = orbit_list[-1:] + orbit_list[ : -1]\n",
    "            disjoint_cycles_list += [orbit_list]\n",
    "    return(disjoint_cycles_list)\n",
    "\n",
    "\n",
    "def repeated_permutation(permutation, number_of_times):\n",
    "    n = len(permutation)\n",
    "    permutation_as_map = {i:permutation[i] for i in range(n)}\n",
    "    current_arrangement = list(range(n))\n",
    "    for i in range(number_of_times):\n",
    "        current_arrangement = [permutation_as_map[item] for item in current_arrangement]\n",
    "    return current_arrangement"
   ]
  },
  {
   "cell_type": "code",
   "execution_count": 44,
   "id": "7803eb45",
   "metadata": {},
   "outputs": [
    {
     "name": "stdout",
     "output_type": "stream",
     "text": [
      "[0]\t[1]\t[2]\t[3, 4, 8, 10, 7, 9, 6]\t[5]\t\n",
      "Number of times: 0 \t [0, 1, 2, 3, 4, 5, 6, 7, 8, 9, 10]\n",
      "Number of times: 1 \t [0, 1, 2, 4, 8, 5, 3, 9, 10, 6, 7]\n",
      "Number of times: 2 \t [0, 1, 2, 8, 10, 5, 4, 6, 7, 3, 9]\n",
      "Number of times: 3 \t [0, 1, 2, 10, 7, 5, 8, 3, 9, 4, 6]\n",
      "Number of times: 4 \t [0, 1, 2, 7, 9, 5, 10, 4, 6, 8, 3]\n",
      "Number of times: 5 \t [0, 1, 2, 9, 6, 5, 7, 8, 3, 10, 4]\n"
     ]
    }
   ],
   "source": [
    "permutation = [0,1,2,4,8,5,3,9,10,6,7]\n",
    "for cycle in disjoint_cycle_finder(permutation):\n",
    "    print(cycle, end=\"\\t\")\n",
    "print(\"\")\n",
    "for i in range(6):\n",
    "    print(f\"Number of times: {i} \\t {repeated_permutation(permutation, i)}\")"
   ]
  },
  {
   "cell_type": "code",
   "execution_count": 73,
   "id": "bf553c1e",
   "metadata": {},
   "outputs": [
    {
     "name": "stdout",
     "output_type": "stream",
     "text": [
      "list is not a permutation of 0 through n.\n",
      "[None]\n"
     ]
    }
   ],
   "source": [
    "print([disjoint_cycle_finder([1,2])])"
   ]
  },
  {
   "cell_type": "code",
   "execution_count": 74,
   "id": "e642d5fb",
   "metadata": {},
   "outputs": [
    {
     "name": "stdout",
     "output_type": "stream",
     "text": [
      "5 [5]\n"
     ]
    }
   ],
   "source": [
    "n = 5\n",
    "print(n, [n])"
   ]
  }
 ],
 "metadata": {
  "kernelspec": {
   "display_name": "Python 3 (ipykernel)",
   "language": "python",
   "name": "python3"
  },
  "language_info": {
   "codemirror_mode": {
    "name": "ipython",
    "version": 3
   },
   "file_extension": ".py",
   "mimetype": "text/x-python",
   "name": "python",
   "nbconvert_exporter": "python",
   "pygments_lexer": "ipython3",
   "version": "3.9.7"
  }
 },
 "nbformat": 4,
 "nbformat_minor": 5
}
