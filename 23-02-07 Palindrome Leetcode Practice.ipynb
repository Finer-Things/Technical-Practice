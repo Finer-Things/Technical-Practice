{
 "cells": [
  {
   "cell_type": "code",
   "execution_count": 4,
   "id": "5724d668",
   "metadata": {},
   "outputs": [
    {
     "name": "stdout",
     "output_type": "stream",
     "text": [
      "['a', 'm', 'a', 'n', 'a', 'p', 'l', 'a', 'n', 'a', 'c', 'a', 'n', 'a', 'l', 'p', 'a', 'n', 'a', 'm', 'a']\n",
      "['a', 'm', 'a', 'n', 'a', 'p', 'l', 'a', 'n', 'a', 'c', 'a', 'n', 'a', 'l', 'p', 'a', 'n', 'a', 'm', 'a']\n"
     ]
    },
    {
     "data": {
      "text/plain": [
       "True"
      ]
     },
     "execution_count": 4,
     "metadata": {},
     "output_type": "execute_result"
    }
   ],
   "source": [
    "def isPalindrome(s):\n",
    "    \"\"\"\n",
    "    :type s: str\n",
    "    :rtype: bool\n",
    "    \"\"\"\n",
    "    alpha_list = [\"a\", \"b\", \"c\", \"d\", \"e\", \"f\", \"g\", \"h\", \"i\", \"j\", \"k\", \"l\", \"m\", \"n\", \"o\", \"p\", \"q\", \"r\", \"s\", \"t\", \"u\", \"v\", \"w\", \"x\", \"y\", \"z\"]\n",
    "    numeric_list = [\"0\", \"1\", \"2\", \"3\", \"4\", \"5\", \"6\", \"7\", \"8\", \"9\"]\n",
    "    alpha_numeric_list = alpha_list + numeric_list + [letter.upper() for letter in alpha_list]\n",
    "#     print(alpha_numeric_list)\n",
    "    significant_symbols_list = [letter for letter in s if letter in alpha_numeric_list]\n",
    "    significant_symbols_list = [letter.lower() for letter in significant_symbols_list]\n",
    "    print(significant_symbols_list)\n",
    "    backwards_significant_list = significant_symbols_list[::-1]\n",
    "    print(backwards_significant_list)\n",
    "    for i, character in enumerate(significant_symbols_list):\n",
    "        if character != backwards_significant_list[i]:\n",
    "            return False\n",
    "    return True\n",
    "\n",
    "isPalindrome(\"A man, a plan, a canal: Panama\")"
   ]
  }
 ],
 "metadata": {
  "kernelspec": {
   "display_name": "Python 3 (ipykernel)",
   "language": "python",
   "name": "python3"
  },
  "language_info": {
   "codemirror_mode": {
    "name": "ipython",
    "version": 3
   },
   "file_extension": ".py",
   "mimetype": "text/x-python",
   "name": "python",
   "nbconvert_exporter": "python",
   "pygments_lexer": "ipython3",
   "version": "3.9.7"
  }
 },
 "nbformat": 4,
 "nbformat_minor": 5
}
